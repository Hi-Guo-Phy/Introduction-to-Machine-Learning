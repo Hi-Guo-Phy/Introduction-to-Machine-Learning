{
 "cells": [
  {
   "cell_type": "markdown",
   "metadata": {},
   "source": [
    "# 0_Introduction"
   ]
  },
  {
   "cell_type": "markdown",
   "metadata": {},
   "source": [
    "## 一、机器学习的基础概念\n",
    "&emsp;&emsp;机器学习主要类型有两种：**监督学习(Supervised Learning)**和**非监督学习(Supervised Learning)**，接下来我们对其进行简单介绍。"
   ]
  },
  {
   "cell_type": "markdown",
   "metadata": {},
   "source": [
    "### 1. 监督学习\n",
    "- 监督学习的要点或者工作流程如下：\n",
    "  - 获取数据集，这里的数据集包括**样本(Input)**和**标签(Output)**，我们可以将其理解为数学函数的自变量和因变量；\n",
    "  - 分析样本和标签的关系，选择最适合的**数学模型**，结合获取到的数据集进行**训练**，进而得到**最优参数**；\n",
    "  - 利用模型进行预测，此时我们会给模型提供不同于训练数据集的未知数据，模型给出合理的输出；\n",
    "  - 解释结果，继续优化模型。\n"
   ]
  },
  {
   "cell_type": "markdown",
   "metadata": {},
   "source": [
    "- 监督学习的理解：\n",
    "    - 监督学习直白来讲，就是我们教机器学习，如何教？**利用已知的、实际的、我们认为正确的数据集**；\n",
    "    - 监督学习实际上是构建样本（抑或者输入）与标签（抑或者输出）之间的 **映射(mapping)** 关系，这种关系我们借助于数学模型表达；\n",
    "    - 监督学习的目的在于 **预测**，这是检验模型正确性的最直接、最权威方法；\n",
    "    - 监督学习所构建的模型就像一个黑盒子，我们提供满足条件的输入，它给我们输出。"
   ]
  },
  {
   "cell_type": "markdown",
   "metadata": {},
   "source": [
    "- 监督学习的分类：\n",
    "    - **回归(Regression)**\n",
    "        - 模型建立完成之后，我们为其提供未知的输入，此时的输出具有**无穷多种连续**的的可能值；\n",
    "    - **分类(Classification)**\n",
    "        - 模型建立完成之后，我们为其提供未知的输入，此时的输出具有**有限多种离散**的的可能值；"
   ]
  },
  {
   "cell_type": "markdown",
   "metadata": {},
   "source": [
    "### 2. 非监督学习\n",
    "&emsp;&emsp;无监督学习的特点是在训练数据中没有标签或目标值，目标是从数据中发现隐藏的结构和模式，而不是预测特定的标签或目标。"
   ]
  },
  {
   "cell_type": "markdown",
   "metadata": {},
   "source": [
    "## 二、经典工具的使用\n",
    "&emsp;&emsp;数据科学的经典工具是——```jupyter notebook```，这一工具将文档、代码、可视化结果无缝衔接在一起，是制作科学文档、进行数据分析的优秀代表。接下来，我给出具体的安装流程：\n",
    "\n",
    "- 首先，我们需要安装```Anaconda```套件——一个良好的包管理和虚拟环境管理工具，可以解决多版本```python```共存、切换、第三方包安装问题，内部自带```jupyter notebook```；\n",
    "    - 参考文章：https://blog.csdn.net/weixin_44814196/article/details/126125137\n",
    "- 其次，在```VSCode```中配置```jupyter```，配置完成后，我们可以方便的切换环境和进行编辑；\n",
    "    - 参考文章：https://blog.csdn.net/Highlight_Jin/article/details/108974523"
   ]
  }
 ],
 "metadata": {
  "kernelspec": {
   "display_name": "base",
   "language": "python",
   "name": "python3"
  },
  "language_info": {
   "name": "python",
   "version": "3.12.4"
  }
 },
 "nbformat": 4,
 "nbformat_minor": 2
}
